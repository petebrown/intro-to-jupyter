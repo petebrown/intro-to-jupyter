{
 "cells": [
  {
   "cell_type": "markdown",
   "id": "101ae448",
   "metadata": {},
   "source": [
    "## Solutions to the homework\n",
    "We're getting our data from [the Pokemon API](https://pokeapi.co)\n",
    "\n",
    "We can use three backticks for code. Following that with \"python\" will color the syntax for Python, e.g.\n",
    "\n",
    "```python\n",
    "import requests\n",
    "\n",
    "url = 'https://pokeapi.co/api/v2/type/electric/'\n",
    "response = requests.get(url)\n",
    "data = response.json()\n",
    "```"
   ]
  },
  {
   "cell_type": "code",
   "execution_count": 1,
   "id": "3fe5ee64",
   "metadata": {},
   "outputs": [],
   "source": [
    "import requests\n",
    "\n",
    "url = 'https://pokeapi.co/api/v2/type/electric/'\n",
    "response = requests.get(url)\n",
    "data = response.json()"
   ]
  },
  {
   "cell_type": "code",
   "execution_count": 5,
   "id": "04decd3a",
   "metadata": {
    "scrolled": false
   },
   "outputs": [
    {
     "data": {
      "text/plain": [
       "[{'language': {'name': 'ja-Hrkt',\n",
       "   'url': 'https://pokeapi.co/api/v2/language/1/'},\n",
       "  'name': 'でんき'},\n",
       " {'language': {'name': 'ko', 'url': 'https://pokeapi.co/api/v2/language/3/'},\n",
       "  'name': '전기'},\n",
       " {'language': {'name': 'zh-Hant',\n",
       "   'url': 'https://pokeapi.co/api/v2/language/4/'},\n",
       "  'name': '電'},\n",
       " {'language': {'name': 'fr', 'url': 'https://pokeapi.co/api/v2/language/5/'},\n",
       "  'name': 'Électrik'},\n",
       " {'language': {'name': 'de', 'url': 'https://pokeapi.co/api/v2/language/6/'},\n",
       "  'name': 'Elektro'},\n",
       " {'language': {'name': 'es', 'url': 'https://pokeapi.co/api/v2/language/7/'},\n",
       "  'name': 'Eléctrico'},\n",
       " {'language': {'name': 'it', 'url': 'https://pokeapi.co/api/v2/language/8/'},\n",
       "  'name': 'Elettro'},\n",
       " {'language': {'name': 'en', 'url': 'https://pokeapi.co/api/v2/language/9/'},\n",
       "  'name': 'Electric'},\n",
       " {'language': {'name': 'ja', 'url': 'https://pokeapi.co/api/v2/language/11/'},\n",
       "  'name': 'でんき'},\n",
       " {'language': {'name': 'zh-Hans',\n",
       "   'url': 'https://pokeapi.co/api/v2/language/12/'},\n",
       "  'name': '电'}]"
      ]
     },
     "execution_count": 5,
     "metadata": {},
     "output_type": "execute_result"
    }
   ],
   "source": [
    "data['names']"
   ]
  },
  {
   "cell_type": "code",
   "execution_count": 7,
   "id": "ce83e0dd",
   "metadata": {},
   "outputs": [
    {
     "data": {
      "text/plain": [
       "{'language': {'name': 'ko', 'url': 'https://pokeapi.co/api/v2/language/3/'},\n",
       " 'name': '전기'}"
      ]
     },
     "execution_count": 7,
     "metadata": {},
     "output_type": "execute_result"
    }
   ],
   "source": [
    "data['names'][1]"
   ]
  },
  {
   "cell_type": "code",
   "execution_count": 8,
   "id": "a3773929",
   "metadata": {},
   "outputs": [
    {
     "data": {
      "text/plain": [
       "dict_keys(['language', 'name'])"
      ]
     },
     "execution_count": 8,
     "metadata": {},
     "output_type": "execute_result"
    }
   ],
   "source": [
    "data['names'][1].keys()"
   ]
  },
  {
   "cell_type": "code",
   "execution_count": 9,
   "id": "f73aa165",
   "metadata": {},
   "outputs": [
    {
     "data": {
      "text/plain": [
       "'전기'"
      ]
     },
     "execution_count": 9,
     "metadata": {},
     "output_type": "execute_result"
    }
   ],
   "source": [
    "data['names'][1]['name']"
   ]
  },
  {
   "cell_type": "code",
   "execution_count": null,
   "id": "d7fe82e3",
   "metadata": {},
   "outputs": [],
   "source": []
  }
 ],
 "metadata": {
  "kernelspec": {
   "display_name": "lede_program",
   "language": "python",
   "name": "lede_program"
  },
  "language_info": {
   "codemirror_mode": {
    "name": "ipython",
    "version": 3
   },
   "file_extension": ".py",
   "mimetype": "text/x-python",
   "name": "python",
   "nbconvert_exporter": "python",
   "pygments_lexer": "ipython3",
   "version": "3.10.3"
  }
 },
 "nbformat": 4,
 "nbformat_minor": 5
}
